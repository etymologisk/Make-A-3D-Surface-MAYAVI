{
 "cells": [
  {
   "cell_type": "code",
   "execution_count": 1,
   "metadata": {},
   "outputs": [
    {
     "name": "stderr",
     "output_type": "stream",
     "text": [
      "C:\\Users\\AppData\\Local\\Continuum\\anaconda3\\envs\\mymayavi\\lib\\site-packages\\tvtk\\array_handler.py:268: FutureWarning: Conversion of the second argument of issubdtype from `complex` to `np.complexfloating` is deprecated. In future, it will be treated as `np.complex128 == np.dtype(complex).type`.\n",
      "  assert not numpy.issubdtype(z.dtype, complex), \\\n"
     ]
    }
   ],
   "source": [
    "from mayavi import mlab\n",
    "import numpy as np\n",
    "\n",
    "x_min = 5000\n",
    "x_max = 5050\n",
    "y_min = 5000\n",
    "y_max = 5050\n",
    "\n",
    "sample_size = 500\n",
    "\n",
    "x = np.random.randint(x_min,x_max,size=(sample_size,1))\n",
    "y = np.random.randint(y_min,y_max,size=(sample_size,1))\n",
    "z = np.sin(x)-100\n",
    "\n",
    "\n",
    "mlab.clf()\n",
    "mlab.figure(1, fgcolor=(0, 0, 0), bgcolor=(1, 1, 1))\n",
    "\n",
    "# Visualize the points\n",
    "pts = mlab.points3d(x, y, z, z, scale_mode='none', scale_factor=0.1)\n",
    "\n",
    "# Create and visualize the mesh\n",
    "\n",
    "surf = mlab.pipeline.surface(mlab.pipeline.delaunay2d(pts))\n",
    "\n",
    "\n",
    "mlab.show()\n",
    "\n"
   ]
  }
 ],
 "metadata": {
  "kernelspec": {
   "display_name": "Python 3",
   "language": "python",
   "name": "python3"
  },
  "language_info": {
   "codemirror_mode": {
    "name": "ipython",
    "version": 3
   },
   "file_extension": ".py",
   "mimetype": "text/x-python",
   "name": "python",
   "nbconvert_exporter": "python",
   "pygments_lexer": "ipython3",
   "version": "3.6.6"
  }
 },
 "nbformat": 4,
 "nbformat_minor": 2
}
